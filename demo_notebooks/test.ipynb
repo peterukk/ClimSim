{
 "cells": [
  {
   "cell_type": "code",
   "execution_count": 2,
   "id": "fd7be499",
   "metadata": {},
   "outputs": [],
   "source": [
    "import os\n",
    "os.chdir(os.path.expanduser(\"/network/group/aopp/predict/HMC009_UKKONEN_CLIMSIM/ClimSim\"))\n",
    "from climsim_utils.data_utils_new import *\n",
    "\n",
    "grid_path = 'grid_info/ClimSim_low-res_grid-info.nc'\n",
    "norm_path = 'preprocessing/normalizations/'\n",
    "\n",
    "\n",
    "\n",
    "\n",
    "grid_info = xr.open_dataset(grid_path)\n",
    "input_mean = xr.open_dataset(norm_path + 'inputs/input_mean_v4_pervar.nc').astype(np.float32)\n",
    "input_max = xr.open_dataset(norm_path + 'inputs/input_max_v4_pervar.nc').astype(np.float32)\n",
    "input_min = xr.open_dataset(norm_path + 'inputs/input_min_v4_pervar.nc').astype(np.float32)\n",
    "output_scale = xr.open_dataset(norm_path + 'outputs/output_scale.nc').astype(np.float32)\n",
    "\n",
    "ml_backend = 'pytorch'\n",
    "input_abbrev = 'mlexpand'\n",
    "output_abbrev = 'mlo'\n",
    "data = data_utils(grid_info = grid_info, \n",
    "                  input_mean = input_mean, \n",
    "                  input_max = input_max, \n",
    "                  input_min = input_min, \n",
    "                  output_scale = output_scale,\n",
    "                  ml_backend = ml_backend,\n",
    "                  normalize = True,\n",
    "                  input_abbrev = input_abbrev,\n",
    "                  output_abbrev = output_abbrev,\n",
    "                  save_h5=True,\n",
    "                  save_npy=False,\n",
    "                  )\n",
    "\n",
    "\n",
    "\n",
    "# set data path\n",
    "data.data_path = '/ocean/projects/atm200007p/jlin96/neurips_proj/e3sm_train/'\n",
    "data.data_path = \"/network/group/aopp/predict/HMC009_UKKONEN_CLIMSIM/ClimSim_data/ClimSim_low-res-expanded/train/\"\n",
    "\n",
    "data_save_path =  \"/network/group/aopp/predict/HMC009_UKKONEN_CLIMSIM/ClimSim_data/ClimSim_low-res-expanded/train/preprocessed/\"\n",
    "# set inputs and outputs to V1 subset\n",
    "#data.set_to_v1_vars()\n",
    "#data.set_to_v2_vars()\n",
    "#data.set_to_v4_vars()\n",
    "data.set_to_v4_rnn_vars()\n"
   ]
  },
  {
   "cell_type": "code",
   "execution_count": 2,
   "id": "703c227e",
   "metadata": {},
   "outputs": [
    {
     "data": {
      "text/plain": [
       "'/network/group/aopp/predict/HMC009_UKKONEN_CLIMSIM/ClimSim/demo_notebooks'"
      ]
     },
     "execution_count": 2,
     "metadata": {},
     "output_type": "execute_result"
    }
   ],
   "source": [
    "pwd"
   ]
  },
  {
   "cell_type": "code",
   "execution_count": null,
   "id": "14609511",
   "metadata": {},
   "outputs": [],
   "source": []
  }
 ],
 "metadata": {
  "kernelspec": {
   "display_name": "py311_torch_cu121",
   "language": "python",
   "name": "py311_torch_cu121"
  },
  "language_info": {
   "codemirror_mode": {
    "name": "ipython",
    "version": 3
   },
   "file_extension": ".py",
   "mimetype": "text/x-python",
   "name": "python",
   "nbconvert_exporter": "python",
   "pygments_lexer": "ipython3",
   "version": "3.11.10"
  }
 },
 "nbformat": 4,
 "nbformat_minor": 5
}
